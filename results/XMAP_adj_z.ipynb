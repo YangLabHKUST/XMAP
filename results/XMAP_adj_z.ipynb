{
 "cells": [
  {
   "cell_type": "markdown",
   "id": "7d252f15",
   "metadata": {},
   "source": [
    "In this demo, we show the equivalence between the individual-level XMAP (XMAP-i) and summary-level XMAP with adjusted z-scores."
   ]
  },
  {
   "cell_type": "code",
   "execution_count": 1,
   "id": "0fed8833",
   "metadata": {},
   "outputs": [],
   "source": [
    "library(susieR)\n",
    "library(XMAP)\n",
    "library(mvtnorm)\n",
    "set.seed(1000)\n",
    "n1 <- 10000\n",
    "n2 <- 10000\n",
    "\n",
    "p <- 500\n",
    "\n",
    "# Generate genotype matrices\n",
    "X1 <- matrix(rnorm(n1*p),n1,p)\n",
    "X2 <- matrix(rnorm(n2*p),n2,p)\n",
    "\n",
    "Xs1 <- scale(X1)\n",
    "Xs2 <- scale(X2)\n",
    "\n",
    "\n",
    "h1_omega <- 0.005\n",
    "h2_omega <- 0.005\n",
    "rho_omega <- 0.8\n",
    "enrich <- 50\n",
    "\n",
    "rho_sigma <- 0\n",
    "\n",
    "# per-snp variance for bg\n",
    "omega1 <- h1_omega / p\n",
    "omega2 <- h2_omega / p\n",
    "omega12 <- rho_omega * sqrt(omega1 * omega2)\n",
    "\n",
    "Omega <- matrix(c(omega1, omega12, omega12, omega2), 2, 2)\n",
    "Omega0 <- matrix(c(omega1, 0, 0, omega2), 2, 2)\n",
    "\n",
    "\n",
    "# per-snp variance for causal\n",
    "Sigma1 <- omega1 * enrich\n",
    "Sigma2 <- omega2 * enrich\n",
    "Sigma12 <- rho_sigma * sqrt(Sigma1 * Sigma2)\n",
    "Sigma <- matrix(c(Sigma1, Sigma12, Sigma12, Sigma2), 2, 2)\n",
    "\n",
    "\n",
    "# Generate polygenic effects\n",
    "phi <- rmvnorm(p, rep(0, 2), Omega)\n",
    "\n",
    "idx_causal <- c(5,10,15)\n",
    "K_true <- 3\n",
    "\n",
    "# Generate causal effects\n",
    "beta <- matrix(0, p, 2)\n",
    "beta[idx_causal,] <- rmvnorm(K_true, rep(0, 2), Sigma)\n",
    "\n",
    "beta[, 1] <- beta[, 1]/sqrt(var(beta[,1]))*sqrt(Sigma[1,1]/p)\n",
    "beta[, 2] <- beta[, 2]/sqrt(var(beta[,2]))*sqrt(Sigma[2,2]/p)\n",
    "\n",
    "# Generate phenotypes\n",
    "y1 <- Xs1 %*% beta[, 1] +\n",
    "  Xs1 %*% phi[, 1] +\n",
    "  rnorm(n1, 0, sqrt(1 - omega1 * p - Sigma1 * K_true))\n",
    "\n",
    "y2 <- Xs2 %*% beta[, 2] +\n",
    "  Xs2 %*% phi[, 2] +\n",
    "  rnorm(n2, 0, sqrt(1 - omega2 * p - Sigma2 * K_true))\n",
    "\n",
    "# Compute summary statistics\n",
    "sumstats1 <- univariate_regression(Xs1, y1)\n",
    "sumstats2 <- univariate_regression(Xs2, y2)\n",
    "\n",
    "# Generate z-scores\n",
    "zs1 <- sumstats1$betahat/sumstats1$sebetahat\n",
    "zs2 <- sumstats2$betahat/sumstats2$sebetahat\n",
    "\n",
    "# Compute LD matrices\n",
    "R1 <- cor(X1)\n",
    "R2 <- cor(X2)\n"
   ]
  },
  {
   "cell_type": "code",
   "execution_count": 2,
   "id": "9d0ed43a",
   "metadata": {},
   "outputs": [
    {
     "name": "stdout",
     "output_type": "stream",
     "text": [
      "List of 9\n",
      " $ gamma        : num [1:5, 1:500] 6.14e-05 2.17e-03 2.46e-03 2.46e-03 2.46e-03 ...\n",
      " $ mu           : num [1:2, 1:5, 1:500] -0.0119 0.00565 -0.00545 0.01154 -0.00335 ...\n",
      " $ nu           : num [1:2, 1:500] 1.33e-04 5.99e-04 -1.98e-04 1.69e-04 7.21e-05 ...\n",
      " $ Sigma        : num [1:2, 1:2, 1:5] 1.79e-03 -7.00e-04 -7.00e-04 2.85e-04 7.58e-05 ...\n",
      " $ Omega        : num [1:2, 1:2] 1e-05 8e-06 8e-06 1e-05\n",
      " $ Sig_E        : num [1:2, 1] 0.994 0.993\n",
      " $ ELBO         : num [1:12, 1] -Inf -28899 -28879 -28878 -28877 ...\n",
      " $ K            : int 5\n",
      " $ prior_weights: num [1:500, 1] 0.002 0.002 0.002 0.002 0.002 0.002 0.002 0.002 0.002 0.002 ...\n"
     ]
    }
   ],
   "source": [
    "# Run summary-level XMAP with adj_zs=T performs z-score adjustment before fitting\n",
    "fit_xmap <- XMAP(R=simplify2array(list(R1,R2)), z=cbind(zs1,zs2),adj_zs = T,\n",
    "                 n=c(n1,n2), K = 5,\n",
    "                 Omega = Omega,\n",
    "                 Sig_E =  c(1,1),\n",
    "                 tol = 1e-6,\n",
    "                 maxIter = 200, estimate_residual_variance = T, estimate_prior_variance = T,\n",
    "                 estimate_background_variance = F)\n",
    "str(fit_xmap)"
   ]
  },
  {
   "cell_type": "code",
   "execution_count": 3,
   "id": "7a82bd3d",
   "metadata": {},
   "outputs": [
    {
     "name": "stdout",
     "output_type": "stream",
     "text": [
      "2 -th iteration finished.\t ELBO= -28899.06 ,\t Diff= Inf \n",
      "3 -th iteration finished.\t ELBO= -28878.84 ,\t Diff= 20.22003 \n",
      "4 -th iteration finished.\t ELBO= -28877.57 ,\t Diff= 1.264356 \n",
      "5 -th iteration finished.\t ELBO= -28877.19 ,\t Diff= 0.3840007 \n",
      "6 -th iteration finished.\t ELBO= -28877.01 ,\t Diff= 0.1802179 \n",
      "7 -th iteration finished.\t ELBO= -28876.91 ,\t Diff= 0.1045612 \n",
      "8 -th iteration finished.\t ELBO= -28876.84 ,\t Diff= 0.0691544 \n",
      "9 -th iteration finished.\t ELBO= -28876.79 ,\t Diff= 0.05013862 \n",
      "10 -th iteration finished.\t ELBO= -28876.75 ,\t Diff= 0.03908225 \n",
      "11 -th iteration finished.\t ELBO= -28876.71 ,\t Diff= 0.03238681 \n",
      "12 -th iteration finished.\t ELBO= -28876.69 ,\t Diff= 0.0282558 \n",
      "List of 21\n",
      " $ gamma         : num [1:5, 1:500] 6.14e-05 2.17e-03 2.46e-03 2.46e-03 2.46e-03 ...\n",
      " $ tgamma1       : NULL\n",
      " $ tgamma2       : NULL\n",
      " $ mu1           : num [1:5, 1:500] -0.0119 -0.00545 -0.00335 -0.00336 -0.00337 ...\n",
      " $ mu2           : num [1:5, 1:500] 0.00565 0.01154 0.00763 0.00762 0.00763 ...\n",
      " $ tmu1          : NULL\n",
      " $ tmu2          : NULL\n",
      " $ nu            : num [1:1000, 1] 1.33e-04 -1.98e-04 7.21e-05 -9.42e-04 1.06e-03 ...\n",
      " $ Sigma         : num [1:2, 1:2, 1:5] 1.79e-03 -7.00e-04 -7.00e-04 2.85e-04 7.58e-05 ...\n",
      " $ Eta1          : NULL\n",
      " $ Eta2          : NULL\n",
      " $ Omega         : num [1:2, 1:2] 1e-05 8e-06 8e-06 1e-05\n",
      " $ Sig_E1        : num 0.994\n",
      " $ Sig_E2        : num 0.993\n",
      " $ ELBO          : num [1:12] -Inf -28899 -28879 -28878 -28877 ...\n",
      " $ K             : num 5\n",
      " $ K1            : num 0\n",
      " $ K2            : num 0\n",
      " $ prior_weights : num [1:500] 0.002 0.002 0.002 0.002 0.002 0.002 0.002 0.002 0.002 0.002 ...\n",
      " $ prior_weights1: NULL\n",
      " $ prior_weights2: NULL\n"
     ]
    }
   ],
   "source": [
    "# Run individual-level XMAP \n",
    "fit_ind <- XMAP_i(Xs1,Xs2,scale(y1),scale(y2),K=5,Sigma1=0.1,Sigma2 = 0.1,rho=0,\n",
    "                            Sig_E1 = 1,Sig_E2=1,\n",
    "                            Omega = Omega,\n",
    "                            prior_weights = rep(1 / p, p), tol = 1e-6,\n",
    "                            maxIter = 200, estimate_residual_variance = T, estimate_prior_variance = T,\n",
    "                            estimate_background_variance = F, initialize = F)\n",
    "str(fit_ind)"
   ]
  },
  {
   "cell_type": "code",
   "execution_count": 4,
   "id": "3429853d",
   "metadata": {},
   "outputs": [
    {
     "data": {
      "text/html": [
       "TRUE"
      ],
      "text/latex": [
       "TRUE"
      ],
      "text/markdown": [
       "TRUE"
      ],
      "text/plain": [
       "[1] TRUE"
      ]
     },
     "metadata": {},
     "output_type": "display_data"
    }
   ],
   "source": [
    "# Check equivalence of PIP\n",
    "all.equal(get_pip(fit_xmap$gamma),get_pip(fit_ind$gamma))"
   ]
  },
  {
   "cell_type": "code",
   "execution_count": 5,
   "id": "b76f4b12",
   "metadata": {},
   "outputs": [
    {
     "data": {
      "image/png": "[encoded data removed]",
      "text/plain": [
       "plot without title"
      ]
     },
     "metadata": {
      "image/png": {
       "height": 420,
       "width": 420
      }
     },
     "output_type": "display_data"
    }
   ],
   "source": [
    "# Plot PIP\n",
    "plot(get_pip(fit_xmap$gamma), get_pip(fit_ind$gamma),xlab = \"XMAP\",ylab = \"XMAP-i\")\n",
    "abline(a=c(0,0),b=c(1,1),col=\"red\")\n",
    "points(get_pip(fit_xmap$gamma)[idx_causal],get_pip(fit_ind$gamma)[idx_causal],col=\"blue\",pch=16)"
   ]
  }
 ],
 "metadata": {
  "kernelspec": {
   "display_name": "R",
   "language": "R",
   "name": "ir"
  },
  "language_info": {
   "codemirror_mode": "r",
   "file_extension": ".r",
   "mimetype": "text/x-r-source",
   "name": "R",
   "pygments_lexer": "r",
   "version": "4.1.3"
  }
 },
 "nbformat": 4,
 "nbformat_minor": 5
}
