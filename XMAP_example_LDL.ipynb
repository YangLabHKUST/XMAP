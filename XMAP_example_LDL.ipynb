{
 "cells": [
  {
   "cell_type": "code",
   "execution_count": 3,
   "id": "f7cfa519",
   "metadata": {},
   "outputs": [],
   "source": [
    "library(susieR)\n",
    "library(data.table)\n",
    "library(Matrix)\n",
    "library(XMAP)\n",
    "library(RhpcBLASctl)\n",
    "set.seed(1)"
   ]
  },
  {
   "cell_type": "code",
   "execution_count": null,
   "id": "e6384711",
   "metadata": {},
   "outputs": [],
   "source": [
    "# read GWAS summary statistics\n",
    "sumstat_EUR <- fread(\"/home/share/sumstats/format/LDL_allSNPs_UKBNealLab_summary_format.txt\")\n",
    "sumstat_AFR <- fread(\"/home/share/sumstats/format/LDL_AFR_GLGC_summary_format.txt\")\n",
    "\n",
    "# read LD scores\n",
    "ldscore <- data.frame()\n",
    "for (chr in 1:22) {\n",
    "  ldscore_chr <- fread(paste0(\"/home/share/mingxuan/UKB_geno_finemap/LDscore_eas_brit_afr_chr\", chr, \".txt\"))\n",
    "  ldscore <- rbind(ldscore, ldscore_chr)\n",
    "  cat(\"CHR\", chr, \"\\n\")\n",
    "}\n",
    "\n",
    "# pre-process: remove ambiguous SNPs\n",
    "idx_amb <- which(ldscore$allele1 == comple(ldscore$allele2))\n",
    "ldscore <- ldscore[-idx_amb,]\n",
    "\n",
    "\n",
    "# pre-process: overlap SNPs\n",
    "snps <- Reduce(intersect, list(ldscore$rsid, sumstat_AFR$SNP, sumstat_EUR$SNP))\n",
    "sumstat_AFR_ldsc <- sumstat_AFR[match(snps, sumstat_AFR$SNP),]\n",
    "sumstat_EUR_ldsc <- sumstat_EUR[match(snps, sumstat_EUR$SNP),]\n",
    "ldscore <- ldscore[match(snps, ldscore$rsid),]\n",
    "\n",
    "\n",
    "# pre-process: flip alleles\n",
    "z_afr <- sumstat_AFR_ldsc$beta / sumstat_AFR_ldsc$se\n",
    "z_eur <- sumstat_EUR_ldsc$Z\n",
    "\n",
    "idx_flip <- which(sumstat_AFR_ldsc$A1 != ldscore$allele1 & sumstat_AFR_ldsc$A1 != comple(ldscore$allele1))\n",
    "z_afr[idx_flip] <- -z_afr[idx_flip]\n",
    "\n",
    "idx_flip <- which(sumstat_EUR_ldsc$A1 != ldscore$allele1 & sumstat_EUR_ldsc$A1 != comple(ldscore$allele1))\n",
    "z_eur[idx_flip] <- -z_eur[idx_flip]\n",
    "\n",
    "\n",
    "idx1 <- which(z_afr^2 < 30 & z_eur^2 < 30)\n",
    "ld_afr_w <- 1 / sapply(ldscore$AFR, function(x) max(x, 1))\n",
    "ld_eur_w <- 1 / sapply(ldscore$EUR, function(x) max(x, 1))"
   ]
  },
  {
   "cell_type": "code",
   "execution_count": 4,
   "id": "49065f77",
   "metadata": {},
   "outputs": [],
   "source": [
    "# bi-variate LDSC: AFR-EUR\n",
    "# step 1: estimate intercepts\n",
    "fit_step1 <- estimate_gc(data.frame(Z = z_afr[idx1], N = sumstat_AFR_ldsc$N[idx1]), data.frame(Z = z_eur[idx1], N = sumstat_EUR_ldsc$N[idx1]),\n",
    "                         ldscore$AFR[idx1], ldscore$EUR[idx1], ldscore$AFR_EUR[idx1],\n",
    "                         reg_w1 = ld_afr_w[idx1], reg_w2 = ld_eur_w[idx1], reg_wx = sqrt(ld_afr_w[idx1] * ld_eur_w[idx1]),\n",
    "                         constrain_intercept = F)\n",
    "# step 1: estimate slopes\n",
    "fit_step2 <- estimate_gc(data.frame(Z = z_afr, N = sumstat_AFR_ldsc$N), data.frame(Z = z_eur, N = sumstat_EUR_ldsc$N),\n",
    "                         ldscore$AFR, ldscore$EUR, ldscore$AFR_EUR,\n",
    "                         reg_w1 = ld_afr_w, reg_w2 = ld_eur_w, reg_wx = sqrt(ld_afr_w * ld_eur_w),\n",
    "                         constrain_intercept = T, fit_step1$tau1[1], fit_step1$tau2[1], fit_step1$theta[1])\n"
   ]
  },
  {
   "cell_type": "code",
   "execution_count": 5,
   "id": "d21bef4d",
   "metadata": {},
   "outputs": [],
   "source": [
    "# Assign LDSC estimates to covariance of polygenic effects\n",
    "OmegaHat <- diag(c(fit_step2$tau1[2], fit_step2$tau2[2])) # AFR EUR\n",
    "OmegaHat[1, 2] <- fit_step2$theta[2] # co-heritability\n",
    "OmegaHat[lower.tri(OmegaHat)] <- OmegaHat[upper.tri(OmegaHat)]\n",
    "\n",
    "c1 <- fit_step2$tau1[1] # AFR\n",
    "c2 <- fit_step2$tau2[1] # EUR"
   ]
  },
  {
   "cell_type": "code",
   "execution_count": 6,
   "id": "6b9b4f9f",
   "metadata": {},
   "outputs": [
    {
     "name": "stderr",
     "output_type": "stream",
     "text": [
      "Warning message in asMethod(object):\n",
      "“sparse->dense coercion: allocating vector of size 1.6 GiB”\n",
      "Warning message in asMethod(object):\n",
      "“sparse->dense coercion: allocating vector of size 1.6 GiB”\n"
     ]
    }
   ],
   "source": [
    "# read loci information\n",
    "info <- fread(\"/home/share/mingxuan/UKB_geno_finemap/chr8_20000001_23000001.info\")\n",
    "\n",
    "# detect allele ambiguous SNPs\n",
    "idx_amb <- which(info$allele1 == comple(info$allele2))\n",
    "\n",
    "\n",
    "# overlap SNPs\n",
    "snps <- Reduce(intersect, list(info$rsid[-idx_amb], sumstat_AFR$SNP, sumstat_EUR$SNP))\n",
    "sumstat_AFR_i <- sumstat_AFR[match(snps, sumstat_AFR$SNP),]\n",
    "sumstat_EUR_i <- sumstat_EUR[match(snps, sumstat_EUR$SNP),]\n",
    "\n",
    "# read LD matrix of AFR\n",
    "R_afr <- readMM(\"/home/share/mingxuan/UKB_geno_finemap/chr8_20000001_23000001_afr.mtx.gz\")\n",
    "R_afr <- as.matrix(R_afr + t(R_afr))\n",
    "idx_afr <- match(snps, info$rsid)\n",
    "R_afr <- R_afr[idx_afr, idx_afr]\n",
    "\n",
    "# read LD matrix of EUR\n",
    "R_brit <- readMM(\"/home/share/mingxuan/UKB_geno_finemap/chr8_20000001_23000001_brit.mtx.gz\")\n",
    "R_brit <- as.matrix(R_brit + t(R_brit))\n",
    "idx_brit <- match(snps, info$rsid)\n",
    "R_brit <- R_brit[idx_brit, idx_brit]\n",
    "\n",
    "info <- info[match(snps, info$rsid),]\n",
    "\n",
    "# remove SNPs with small GWAS sample size\n",
    "idx_outlier_EUR <- which(sumstat_EUR_i$N < 0.7 * median(sumstat_EUR_i$N))\n",
    "idx_outlier_AFR <- which(sumstat_AFR_i$N < 0.7 * median(sumstat_AFR_i$N))\n",
    "\n",
    "idx_outlier <- unique(c(idx_outlier_EUR, idx_outlier_AFR))\n",
    "\n",
    "snps <- snps[-idx_outlier]\n",
    "sumstat_AFR_i <- sumstat_AFR_i[-idx_outlier,]\n",
    "sumstat_EUR_i <- sumstat_EUR_i[-idx_outlier,]\n",
    "info <- info[-idx_outlier,]\n",
    "R_afr <- R_afr[-idx_outlier, -idx_outlier]\n",
    "R_brit <- R_brit[-idx_outlier, -idx_outlier]\n",
    "\n",
    "\n",
    "# flip alleles\n",
    "z_afr <- sumstat_AFR_i$beta / sumstat_AFR_i$se\n",
    "z_eur <- sumstat_EUR_i$Z\n",
    "\n",
    "idx_flip <- which(sumstat_AFR_i$A1 != info$allele1 & sumstat_AFR_i$A1 != comple(info$allele1))\n",
    "z_afr[idx_flip] <- -z_afr[idx_flip]\n",
    "\n",
    "idx_flip <- which(sumstat_EUR_i$A1 != info$allele1 & sumstat_EUR_i$A1 != comple(info$allele1))\n",
    "z_eur[idx_flip] <- -z_eur[idx_flip]\n"
   ]
  },
  {
   "cell_type": "code",
   "execution_count": 7,
   "id": "0381f0e0",
   "metadata": {},
   "outputs": [
    {
     "data": {
      "image/png": "[encoded data removed]",
      "text/plain": [
       "Plot with title “XMAP”"
      ]
     },
     "metadata": {
      "image/png": {
       "height": 420,
       "width": 420
      }
     },
     "output_type": "display_data"
    }
   ],
   "source": [
    "blas_set_num_threads(30)\n",
    "xmap <- XMAP(simplify2array(list(R_brit, R_afr)), cbind(z_eur, z_afr), c(median(sumstat_EUR_i$N), median(sumstat_AFR_i$N)),\n",
    "             K = 10, Omega = OmegaHat, Sig_E = c(c1, c2), tol = 1e-6,\n",
    "             maxIter = 200, estimate_residual_variance = F, estimate_prior_variance = T,\n",
    "             estimate_background_variance = F)\n",
    "cs1 <- get_CS(xmap, Xcorr = R_afr, coverage = 0.9, min_abs_corr = 0.1)\n",
    "cs2 <- get_CS(xmap, Xcorr = R_brit, coverage = 0.9, min_abs_corr = 0.1)\n",
    "cs_xmap <- cs1$cs[intersect(names(cs1$cs), names(cs2$cs))]\n",
    "pip_xmap <- get_pip(xmap$gamma)\n",
    "plot_CS(pip_xmap, cs_xmap, main = \"XMAP\",b = (info$rsid == \"rs900776\"))"
   ]
  },
  {
   "cell_type": "code",
   "execution_count": 8,
   "id": "e0a8f2ba",
   "metadata": {},
   "outputs": [
    {
     "data": {
      "text/html": [
       "0.991621802747886"
      ],
      "text/latex": [
       "0.991621802747886"
      ],
      "text/markdown": [
       "0.991621802747886"
      ],
      "text/plain": [
       "[1] 0.9916218"
      ]
     },
     "metadata": {},
     "output_type": "display_data"
    }
   ],
   "source": [
    "pip_xmap[info$rsid == \"rs900776\"]"
   ]
  },
  {
   "cell_type": "code",
   "execution_count": 9,
   "id": "11398cf3",
   "metadata": {},
   "outputs": [
    {
     "name": "stderr",
     "output_type": "stream",
     "text": [
      "\u001b[1m\u001b[4m\u001b[35mHINT:\u001b[39m\u001b[24m\u001b[22m If the in-sample LD matrix is available, we recommend calling susie_rss with the in-sample LD matrix, and setting estimate_residual_variance = TRUE\n",
      "\n",
      "\u001b[1m\u001b[4m\u001b[31mWARNING:\u001b[39m\u001b[24m\u001b[22m Providing the sample size (n), or even a rough estimate of n, is highly recommended. Without n, the implicit assumption is n is large (Inf) and the effect sizes are small (close to zero).\n",
      "\n",
      "\u001b[1m\u001b[4m\u001b[35mHINT:\u001b[39m\u001b[24m\u001b[22m For large R or large XtX, consider installing theRfast package for better performance.\n",
      "\n"
     ]
    },
    {
     "name": "stdout",
     "output_type": "stream",
     "text": [
      "[1] \"objective:-0.615669456822658\"\n",
      "[1] \"objective:-0.615669456822658\"\n"
     ]
    },
    {
     "data": {
      "text/html": [
       "0.887278410529523"
      ],
      "text/latex": [
       "0.887278410529523"
      ],
      "text/markdown": [
       "0.887278410529523"
      ],
      "text/plain": [
       "[1] 0.8872784"
      ]
     },
     "metadata": {},
     "output_type": "display_data"
    },
    {
     "name": "stderr",
     "output_type": "stream",
     "text": [
      "\u001b[1m\u001b[4m\u001b[35mHINT:\u001b[39m\u001b[24m\u001b[22m If the in-sample LD matrix is available, we recommend calling susie_rss with the in-sample LD matrix, and setting estimate_residual_variance = TRUE\n",
      "\n",
      "\u001b[1m\u001b[4m\u001b[31mWARNING:\u001b[39m\u001b[24m\u001b[22m Providing the sample size (n), or even a rough estimate of n, is highly recommended. Without n, the implicit assumption is n is large (Inf) and the effect sizes are small (close to zero).\n",
      "\n",
      "\u001b[1m\u001b[4m\u001b[35mHINT:\u001b[39m\u001b[24m\u001b[22m For large R or large XtX, consider installing theRfast package for better performance.\n",
      "\n"
     ]
    },
    {
     "name": "stdout",
     "output_type": "stream",
     "text": [
      "[1] \"objective:4.3924172297648\"\n",
      "[1] \"objective:4.44086919972531\"\n",
      "[1] \"objective:4.44101973386259\"\n"
     ]
    },
    {
     "data": {
      "image/png": "[encoded data removed]",
      "text/plain": [
       "Plot with title “GWAS-GLGC_AFR”"
      ]
     },
     "metadata": {
      "image/png": {
       "height": 420,
       "width": 420
      }
     },
     "output_type": "display_data"
    },
    {
     "data": {
      "text/html": [
       "0.0137694428431469"
      ],
      "text/latex": [
       "0.0137694428431469"
      ],
      "text/markdown": [
       "0.0137694428431469"
      ],
      "text/plain": [
       "[1] 0.01376944"
      ]
     },
     "metadata": {},
     "output_type": "display_data"
    },
    {
     "data": {
      "image/png": "[encoded data removed]",
      "text/plain": [
       "Plot with title “GWAS-UKB_EUR”"
      ]
     },
     "metadata": {
      "image/png": {
       "height": 420,
       "width": 420
      }
     },
     "output_type": "display_data"
    }
   ],
   "source": [
    "susie_afr <- susie_rss(z_afr, R_afr,\n",
    "                       L = 10,\n",
    "                       verbose = TRUE,\n",
    "                       coverage = 0.9,\n",
    "                       min_abs_corr = 0.1,\n",
    "                       check_prior = F)\n",
    "susie_plot(susie_afr, y = \"PIP\", b = (info$rsid == \"rs900776\"), main = \"GWAS-GLGC_AFR\")\n",
    "susie_afr$pip[info$rsid == \"rs900776\"]\n",
    "\n",
    "susie_eur <- susie_rss(z_eur, R_brit,\n",
    "                       L = 10,\n",
    "                       verbose = TRUE,\n",
    "                       coverage = 0.9,\n",
    "                       min_abs_corr = 0.1,\n",
    "                       check_prior = F)\n",
    "susie_plot(susie_eur, y = \"PIP\", b = (info$rsid == \"rs900776\"), main = \"GWAS-UKB_EUR\")\n",
    "susie_eur$pip[info$rsid == \"rs900776\"]\n"
   ]
  }
 ],
 "metadata": {
  "kernelspec": {
   "display_name": "R",
   "language": "R",
   "name": "ir"
  },
  "language_info": {
   "codemirror_mode": "r",
   "file_extension": ".r",
   "mimetype": "text/x-r-source",
   "name": "R",
   "pygments_lexer": "r",
   "version": "4.1.3"
  }
 },
 "nbformat": 4,
 "nbformat_minor": 5
}
